{
 "cells": [
  {
   "cell_type": "markdown",
   "metadata": {},
   "source": [
    "# Continuous Control\n",
    "\n",
    "---\n",
    "\n",
    "You are welcome to use this coding environment to train your agent for the project.  Follow the instructions below to get started!\n",
    "\n",
    "### 1. Start the Environment\n",
    "\n",
    "Run the next code cell to install a few packages.  This line will take a few minutes to run!"
   ]
  },
  {
   "cell_type": "code",
   "execution_count": 1,
   "metadata": {},
   "outputs": [
    {
     "name": "stdout",
     "output_type": "stream",
     "text": [
      "\u001b[31mtensorflow 1.7.1 has requirement numpy>=1.13.3, but you'll have numpy 1.12.1 which is incompatible.\u001b[0m\r\n",
      "\u001b[31mipython 6.5.0 has requirement prompt-toolkit<2.0.0,>=1.0.15, but you'll have prompt-toolkit 3.0.5 which is incompatible.\u001b[0m\r\n"
     ]
    }
   ],
   "source": [
    "!pip -q install ./python"
   ]
  },
  {
   "cell_type": "markdown",
   "metadata": {},
   "source": [
    "The environments corresponding to both versions of the environment are already saved in the Workspace and can be accessed at the file paths provided below.  \n",
    "\n",
    "Please select one of the two options below for loading the environment."
   ]
  },
  {
   "cell_type": "code",
   "execution_count": 2,
   "metadata": {},
   "outputs": [
    {
     "name": "stderr",
     "output_type": "stream",
     "text": [
      "INFO:unityagents:\n",
      "'Academy' started successfully!\n",
      "Unity Academy name: Academy\n",
      "        Number of Brains: 1\n",
      "        Number of External Brains : 1\n",
      "        Lesson number : 0\n",
      "        Reset Parameters :\n",
      "\t\tgoal_speed -> 1.0\n",
      "\t\tgoal_size -> 5.0\n",
      "Unity brain name: ReacherBrain\n",
      "        Number of Visual Observations (per agent): 0\n",
      "        Vector Observation space type: continuous\n",
      "        Vector Observation space size (per agent): 33\n",
      "        Number of stacked Vector Observation: 1\n",
      "        Vector Action space type: continuous\n",
      "        Vector Action space size (per agent): 4\n",
      "        Vector Action descriptions: , , , \n"
     ]
    }
   ],
   "source": [
    "from unityagents import UnityEnvironment\n",
    "from collections import deque\n",
    "from ddpg_agent import Agent\n",
    "import numpy as np\n",
    "import time\n",
    "import torch\n",
    "\n",
    "# select this option to load version 1 (with a single agent) of the environment\n",
    "#env = UnityEnvironment(file_name='/data/Reacher_One_Linux_NoVis/Reacher_One_Linux_NoVis.x86_64')\n",
    "\n",
    "# select this option to load version 2 (with 20 agents) of the environment\n",
    "env = UnityEnvironment(file_name='/data/Reacher_Linux_NoVis/Reacher.x86_64')"
   ]
  },
  {
   "cell_type": "markdown",
   "metadata": {},
   "source": [
    "Environments contain **_brains_** which are responsible for deciding the actions of their associated agents. Here we check for the first brain available, and set it as the default brain we will be controlling from Python."
   ]
  },
  {
   "cell_type": "code",
   "execution_count": 3,
   "metadata": {},
   "outputs": [],
   "source": [
    "# get the default brain\n",
    "brain_name = env.brain_names[0]\n",
    "brain = env.brains[brain_name]"
   ]
  },
  {
   "cell_type": "markdown",
   "metadata": {},
   "source": [
    "### 2. Examine the State and Action Spaces\n",
    "\n",
    "Run the code cell below to print some information about the environment."
   ]
  },
  {
   "cell_type": "code",
   "execution_count": 4,
   "metadata": {},
   "outputs": [
    {
     "name": "stdout",
     "output_type": "stream",
     "text": [
      "Number of agents: 20\n",
      "Size of each action: 4\n",
      "There are 20 agents. Each observes a state with length: 33\n",
      "The state for the first agent looks like: [  0.00000000e+00  -4.00000000e+00   0.00000000e+00   1.00000000e+00\n",
      "  -0.00000000e+00  -0.00000000e+00  -4.37113883e-08   0.00000000e+00\n",
      "   0.00000000e+00   0.00000000e+00   0.00000000e+00   0.00000000e+00\n",
      "   0.00000000e+00   0.00000000e+00  -1.00000000e+01   0.00000000e+00\n",
      "   1.00000000e+00  -0.00000000e+00  -0.00000000e+00  -4.37113883e-08\n",
      "   0.00000000e+00   0.00000000e+00   0.00000000e+00   0.00000000e+00\n",
      "   0.00000000e+00   0.00000000e+00   5.75471878e+00  -1.00000000e+00\n",
      "   5.55726624e+00   0.00000000e+00   1.00000000e+00   0.00000000e+00\n",
      "  -1.68164849e-01]\n"
     ]
    }
   ],
   "source": [
    "# reset the environment\n",
    "env_info = env.reset(train_mode=True)[brain_name]\n",
    "\n",
    "# number of agents\n",
    "num_agents = len(env_info.agents)\n",
    "print('Number of agents:', num_agents)\n",
    "\n",
    "# size of each action\n",
    "action_size = brain.vector_action_space_size\n",
    "print('Size of each action:', action_size)\n",
    "\n",
    "# examine the state space \n",
    "states = env_info.vector_observations\n",
    "state_size = states.shape[1]\n",
    "print('There are {} agents. Each observes a state with length: {}'.format(states.shape[0], state_size))\n",
    "print('The state for the first agent looks like:', states[0])"
   ]
  },
  {
   "cell_type": "markdown",
   "metadata": {},
   "source": [
    "### 3. Take Random Actions in the Environment\n",
    "\n",
    "In the next code cell, you will learn how to use the Python API to control the agent and receive feedback from the environment.\n",
    "\n",
    "Note that **in this coding environment, you will not be able to watch the agents while they are training**, and you should set `train_mode=True` to restart the environment."
   ]
  },
  {
   "cell_type": "code",
   "execution_count": 5,
   "metadata": {},
   "outputs": [
    {
     "name": "stdout",
     "output_type": "stream",
     "text": [
      "Total score (averaged over agents) this episode: 0.10399999767541886\n"
     ]
    }
   ],
   "source": [
    "env_info = env.reset(train_mode=True)[brain_name]      # reset the environment    \n",
    "states = env_info.vector_observations                  # get the current state (for each agent)\n",
    "scores = np.zeros(num_agents)                          # initialize the score (for each agent)\n",
    "while True:\n",
    "    actions = np.random.randn(num_agents, action_size) # select an action (for each agent)\n",
    "    actions = np.clip(actions, -1, 1)                  # all actions between -1 and 1\n",
    "    env_info = env.step(actions)[brain_name]           # send all actions to tne environment\n",
    "    next_states = env_info.vector_observations         # get next state (for each agent)\n",
    "    rewards = env_info.rewards                         # get reward (for each agent)\n",
    "    dones = env_info.local_done                        # see if episode finished\n",
    "    scores += env_info.rewards                         # update the score (for each agent)\n",
    "    states = next_states                               # roll over states to next time step\n",
    "    if np.any(dones):                                  # exit loop if episode finished\n",
    "        break\n",
    "print('Total score (averaged over agents) this episode: {}'.format(np.mean(scores)))"
   ]
  },
  {
   "cell_type": "markdown",
   "metadata": {},
   "source": [
    "### 4. It's Your Turn!\n",
    "\n",
    "Now it's your turn to train your own agent to solve the environment!  A few **important notes**:\n",
    "- When training the environment, set `train_mode=True`, so that the line for resetting the environment looks like the following:\n",
    "```python\n",
    "env_info = env.reset(train_mode=True)[brain_name]\n",
    "```\n",
    "- To structure your work, you're welcome to work directly in this Jupyter notebook, or you might like to start over with a new file!  You can see the list of files in the workspace by clicking on **_Jupyter_** in the top left corner of the notebook.\n",
    "- In this coding environment, you will not be able to watch the agents while they are training.  However, **_after training the agents_**, you can download the saved model weights to watch the agents on your own machine! "
   ]
  },
  {
   "cell_type": "code",
   "execution_count": 6,
   "metadata": {},
   "outputs": [],
   "source": [
    "# Deep Deterministic Policy Gradient (DDPG)\n",
    "def ddpg(n_episodes=500, max_t=1000):\n",
    "    \"\"\"\n",
    "    Params\n",
    "    ======\n",
    "        n_episodes (int)      : maximum number of training episodes\n",
    "        max_t (int)           : maximum number of timesteps per episode\n",
    "        solved_score (float)  : min avg score over consecutive episodes\n",
    "        consec_episodes (int) : number of consecutive episodes used to calculate score\n",
    "        print_every (int)     : interval to display results\n",
    "    \"\"\"\n",
    "    actor_path = 'Result/actor.pth'                # actor network weights\n",
    "    critic_path = 'Result/critic.pth'              # critic network weights\n",
    "    mean_scores = []                               # list of mean scores from each episode\n",
    "    moving_avgs = []                               # list of moving averages\n",
    "    best_score = -np.inf\n",
    "    scores_window = deque(maxlen=100)  # mean scores from most recent episodes\n",
    "    \n",
    "    for i_episode in range(1, n_episodes+1):\n",
    "        env_info = env.reset(train_mode=True)[brain_name]       # reset environment\n",
    "        states = env_info.vector_observations                   # get current state for each agent      \n",
    "        scores = np.zeros(num_agents)                           # initialize score for each agent\n",
    "        agent.reset()\n",
    "        start_time = time.time()\n",
    "        for t in range(max_t):\n",
    "            actions = agent.act(states, add_noise=True)         # select an action\n",
    "            env_info = env.step(actions)[brain_name]            # send actions to environment\n",
    "            next_states = env_info.vector_observations          # get next state\n",
    "            rewards = env_info.rewards                          # get reward\n",
    "            dones = env_info.local_done                         # see if episode has finished\n",
    "            # save experience to replay buffer, perform learning step at defined interval\n",
    "            for state, action, reward, next_state, done in zip(states, actions, rewards, next_states, dones):\n",
    "                agent.step(state, action, reward, next_state, t, done)     \n",
    "            states = next_states\n",
    "            scores += rewards        \n",
    "            if np.any(dones):                                   # exit loop when episode ends\n",
    "                break\n",
    "\n",
    "        duration = time.time() - start_time\n",
    "        mean_scores.append(np.mean(scores))           # save mean score for the episode\n",
    "        scores_window.append(mean_scores[-1])         # save mean score to window\n",
    "        moving_avgs.append(np.mean(scores_window))    # save moving average\n",
    "                \n",
    "        print('\\rEpisode {} ({} sec) -- \\tMean: {:.1f}\\tMov. Avg: {:.1f}'.format(\\\n",
    "                  i_episode, round(duration), mean_scores[-1], moving_avgs[-1]))\n",
    "                  \n",
    "        if moving_avgs[-1] >= 30.0:\n",
    "            print('\\nEnvironment solved in {} episodes!\\tMoving Average = {:.1f} over last 100 episodes'.format(\\\n",
    "                                    i_episode, moving_avgs[-1]))            \n",
    "            torch.save(agent.actor_local.state_dict(), actor_path)\n",
    "            torch.save(agent.critic_local.state_dict(), critic_path)\n",
    "            break\n",
    "            \n",
    "    return mean_scores, moving_avgs"
   ]
  },
  {
   "cell_type": "code",
   "execution_count": 7,
   "metadata": {},
   "outputs": [
    {
     "name": "stdout",
     "output_type": "stream",
     "text": [
      "Episode 1 (148 sec) -- \tMean: 0.8\tMov. Avg: 0.8\n",
      "Episode 2 (153 sec) -- \tMean: 1.9\tMov. Avg: 1.4\n",
      "Episode 3 (154 sec) -- \tMean: 2.1\tMov. Avg: 1.6\n",
      "Episode 4 (155 sec) -- \tMean: 3.3\tMov. Avg: 2.1\n",
      "Episode 5 (158 sec) -- \tMean: 3.1\tMov. Avg: 2.3\n",
      "Episode 6 (159 sec) -- \tMean: 4.2\tMov. Avg: 2.6\n",
      "Episode 7 (159 sec) -- \tMean: 5.2\tMov. Avg: 3.0\n",
      "Episode 8 (159 sec) -- \tMean: 5.0\tMov. Avg: 3.2\n",
      "Episode 9 (159 sec) -- \tMean: 5.9\tMov. Avg: 3.5\n",
      "Episode 10 (159 sec) -- \tMean: 5.9\tMov. Avg: 3.7\n",
      "Episode 11 (159 sec) -- \tMean: 5.3\tMov. Avg: 3.9\n",
      "Episode 12 (160 sec) -- \tMean: 5.5\tMov. Avg: 4.0\n",
      "Episode 13 (160 sec) -- \tMean: 7.8\tMov. Avg: 4.3\n",
      "Episode 14 (159 sec) -- \tMean: 6.9\tMov. Avg: 4.5\n",
      "Episode 15 (159 sec) -- \tMean: 6.3\tMov. Avg: 4.6\n",
      "Episode 16 (159 sec) -- \tMean: 6.9\tMov. Avg: 4.8\n",
      "Episode 17 (159 sec) -- \tMean: 6.5\tMov. Avg: 4.9\n",
      "Episode 18 (159 sec) -- \tMean: 7.2\tMov. Avg: 5.0\n",
      "Episode 19 (157 sec) -- \tMean: 6.5\tMov. Avg: 5.1\n",
      "Episode 20 (157 sec) -- \tMean: 7.9\tMov. Avg: 5.2\n",
      "Episode 21 (157 sec) -- \tMean: 5.6\tMov. Avg: 5.2\n",
      "Episode 22 (157 sec) -- \tMean: 6.6\tMov. Avg: 5.3\n",
      "Episode 23 (157 sec) -- \tMean: 6.5\tMov. Avg: 5.3\n",
      "Episode 24 (156 sec) -- \tMean: 6.9\tMov. Avg: 5.4\n",
      "Episode 25 (157 sec) -- \tMean: 7.4\tMov. Avg: 5.5\n",
      "Episode 26 (158 sec) -- \tMean: 7.4\tMov. Avg: 5.6\n",
      "Episode 27 (159 sec) -- \tMean: 6.6\tMov. Avg: 5.6\n",
      "Episode 28 (158 sec) -- \tMean: 7.6\tMov. Avg: 5.7\n",
      "Episode 29 (159 sec) -- \tMean: 6.6\tMov. Avg: 5.7\n",
      "Episode 30 (159 sec) -- \tMean: 6.7\tMov. Avg: 5.7\n",
      "Episode 31 (158 sec) -- \tMean: 8.4\tMov. Avg: 5.8\n",
      "Episode 32 (158 sec) -- \tMean: 10.1\tMov. Avg: 6.0\n",
      "Episode 33 (159 sec) -- \tMean: 10.6\tMov. Avg: 6.1\n",
      "Episode 34 (158 sec) -- \tMean: 12.2\tMov. Avg: 6.3\n",
      "Episode 35 (159 sec) -- \tMean: 9.4\tMov. Avg: 6.4\n",
      "Episode 36 (158 sec) -- \tMean: 13.6\tMov. Avg: 6.6\n",
      "Episode 37 (159 sec) -- \tMean: 11.8\tMov. Avg: 6.7\n",
      "Episode 38 (158 sec) -- \tMean: 14.7\tMov. Avg: 6.9\n",
      "Episode 39 (159 sec) -- \tMean: 16.3\tMov. Avg: 7.2\n",
      "Episode 40 (159 sec) -- \tMean: 17.3\tMov. Avg: 7.4\n",
      "Episode 41 (159 sec) -- \tMean: 19.2\tMov. Avg: 7.7\n",
      "Episode 42 (159 sec) -- \tMean: 26.4\tMov. Avg: 8.1\n",
      "Episode 43 (159 sec) -- \tMean: 21.1\tMov. Avg: 8.4\n",
      "Episode 44 (159 sec) -- \tMean: 27.1\tMov. Avg: 8.9\n",
      "Episode 45 (159 sec) -- \tMean: 27.3\tMov. Avg: 9.3\n",
      "Episode 46 (158 sec) -- \tMean: 27.8\tMov. Avg: 9.7\n",
      "Episode 47 (158 sec) -- \tMean: 32.6\tMov. Avg: 10.2\n",
      "Episode 48 (158 sec) -- \tMean: 31.9\tMov. Avg: 10.6\n",
      "Episode 49 (159 sec) -- \tMean: 32.1\tMov. Avg: 11.1\n",
      "Episode 50 (158 sec) -- \tMean: 31.6\tMov. Avg: 11.5\n",
      "Episode 51 (158 sec) -- \tMean: 33.0\tMov. Avg: 11.9\n",
      "Episode 52 (159 sec) -- \tMean: 35.6\tMov. Avg: 12.4\n",
      "Episode 53 (159 sec) -- \tMean: 34.2\tMov. Avg: 12.8\n",
      "Episode 54 (159 sec) -- \tMean: 36.9\tMov. Avg: 13.2\n",
      "Episode 55 (159 sec) -- \tMean: 33.0\tMov. Avg: 13.6\n",
      "Episode 56 (159 sec) -- \tMean: 31.7\tMov. Avg: 13.9\n",
      "Episode 57 (158 sec) -- \tMean: 33.7\tMov. Avg: 14.2\n",
      "Episode 58 (159 sec) -- \tMean: 33.6\tMov. Avg: 14.6\n",
      "Episode 59 (159 sec) -- \tMean: 35.0\tMov. Avg: 14.9\n",
      "Episode 60 (158 sec) -- \tMean: 31.0\tMov. Avg: 15.2\n",
      "Episode 61 (159 sec) -- \tMean: 31.6\tMov. Avg: 15.5\n",
      "Episode 62 (159 sec) -- \tMean: 34.5\tMov. Avg: 15.8\n",
      "Episode 63 (159 sec) -- \tMean: 32.7\tMov. Avg: 16.0\n",
      "Episode 64 (158 sec) -- \tMean: 33.3\tMov. Avg: 16.3\n",
      "Episode 65 (158 sec) -- \tMean: 33.2\tMov. Avg: 16.6\n",
      "Episode 66 (158 sec) -- \tMean: 34.7\tMov. Avg: 16.8\n",
      "Episode 67 (158 sec) -- \tMean: 34.3\tMov. Avg: 17.1\n",
      "Episode 68 (158 sec) -- \tMean: 34.7\tMov. Avg: 17.4\n",
      "Episode 69 (157 sec) -- \tMean: 37.5\tMov. Avg: 17.6\n",
      "Episode 70 (157 sec) -- \tMean: 36.9\tMov. Avg: 17.9\n",
      "Episode 71 (158 sec) -- \tMean: 34.1\tMov. Avg: 18.1\n",
      "Episode 72 (158 sec) -- \tMean: 31.9\tMov. Avg: 18.3\n",
      "Episode 73 (158 sec) -- \tMean: 31.0\tMov. Avg: 18.5\n",
      "Episode 74 (159 sec) -- \tMean: 32.9\tMov. Avg: 18.7\n",
      "Episode 75 (159 sec) -- \tMean: 35.0\tMov. Avg: 18.9\n",
      "Episode 76 (159 sec) -- \tMean: 34.5\tMov. Avg: 19.1\n",
      "Episode 77 (158 sec) -- \tMean: 33.7\tMov. Avg: 19.3\n",
      "Episode 78 (159 sec) -- \tMean: 36.4\tMov. Avg: 19.5\n",
      "Episode 79 (159 sec) -- \tMean: 35.8\tMov. Avg: 19.7\n",
      "Episode 80 (159 sec) -- \tMean: 36.1\tMov. Avg: 20.0\n",
      "Episode 81 (159 sec) -- \tMean: 33.6\tMov. Avg: 20.1\n",
      "Episode 82 (159 sec) -- \tMean: 34.7\tMov. Avg: 20.3\n",
      "Episode 83 (159 sec) -- \tMean: 33.4\tMov. Avg: 20.5\n",
      "Episode 84 (158 sec) -- \tMean: 35.1\tMov. Avg: 20.6\n",
      "Episode 85 (158 sec) -- \tMean: 33.3\tMov. Avg: 20.8\n",
      "Episode 86 (159 sec) -- \tMean: 34.1\tMov. Avg: 20.9\n",
      "Episode 87 (159 sec) -- \tMean: 35.7\tMov. Avg: 21.1\n",
      "Episode 88 (159 sec) -- \tMean: 35.3\tMov. Avg: 21.3\n",
      "Episode 89 (159 sec) -- \tMean: 36.7\tMov. Avg: 21.4\n",
      "Episode 90 (159 sec) -- \tMean: 36.2\tMov. Avg: 21.6\n",
      "Episode 91 (159 sec) -- \tMean: 35.5\tMov. Avg: 21.8\n",
      "Episode 92 (160 sec) -- \tMean: 34.3\tMov. Avg: 21.9\n",
      "Episode 93 (160 sec) -- \tMean: 33.8\tMov. Avg: 22.0\n",
      "Episode 94 (160 sec) -- \tMean: 37.4\tMov. Avg: 22.2\n",
      "Episode 95 (159 sec) -- \tMean: 36.2\tMov. Avg: 22.3\n",
      "Episode 96 (158 sec) -- \tMean: 34.8\tMov. Avg: 22.5\n",
      "Episode 97 (158 sec) -- \tMean: 36.4\tMov. Avg: 22.6\n",
      "Episode 98 (158 sec) -- \tMean: 36.2\tMov. Avg: 22.7\n",
      "Episode 99 (158 sec) -- \tMean: 33.1\tMov. Avg: 22.8\n",
      "Episode 100 (158 sec) -- \tMean: 35.2\tMov. Avg: 23.0\n",
      "Episode 101 (157 sec) -- \tMean: 36.2\tMov. Avg: 23.3\n",
      "Episode 102 (159 sec) -- \tMean: 33.0\tMov. Avg: 23.6\n",
      "Episode 103 (158 sec) -- \tMean: 34.6\tMov. Avg: 24.0\n",
      "Episode 104 (159 sec) -- \tMean: 32.8\tMov. Avg: 24.3\n",
      "Episode 105 (158 sec) -- \tMean: 36.6\tMov. Avg: 24.6\n",
      "Episode 106 (159 sec) -- \tMean: 36.7\tMov. Avg: 24.9\n",
      "Episode 107 (158 sec) -- \tMean: 36.1\tMov. Avg: 25.2\n",
      "Episode 108 (159 sec) -- \tMean: 36.6\tMov. Avg: 25.5\n",
      "Episode 109 (159 sec) -- \tMean: 35.5\tMov. Avg: 25.8\n",
      "Episode 110 (159 sec) -- \tMean: 35.5\tMov. Avg: 26.1\n",
      "Episode 111 (158 sec) -- \tMean: 34.8\tMov. Avg: 26.4\n",
      "Episode 112 (159 sec) -- \tMean: 35.7\tMov. Avg: 26.7\n",
      "Episode 113 (157 sec) -- \tMean: 34.4\tMov. Avg: 27.0\n",
      "Episode 114 (158 sec) -- \tMean: 36.3\tMov. Avg: 27.3\n",
      "Episode 115 (157 sec) -- \tMean: 33.4\tMov. Avg: 27.6\n",
      "Episode 116 (157 sec) -- \tMean: 33.0\tMov. Avg: 27.8\n",
      "Episode 117 (157 sec) -- \tMean: 35.1\tMov. Avg: 28.1\n",
      "Episode 118 (157 sec) -- \tMean: 34.5\tMov. Avg: 28.4\n",
      "Episode 119 (157 sec) -- \tMean: 34.4\tMov. Avg: 28.7\n",
      "Episode 120 (159 sec) -- \tMean: 34.5\tMov. Avg: 28.9\n",
      "Episode 121 (159 sec) -- \tMean: 34.3\tMov. Avg: 29.2\n",
      "Episode 122 (158 sec) -- \tMean: 36.2\tMov. Avg: 29.5\n",
      "Episode 123 (159 sec) -- \tMean: 35.2\tMov. Avg: 29.8\n",
      "Episode 124 (159 sec) -- \tMean: 35.8\tMov. Avg: 30.1\n",
      "\n",
      "Environment solved in 124 episodes!\tMoving Average = 30.1 over last 100 episodes\n"
     ]
    }
   ],
   "source": [
    "# Train the agent\n",
    "agent = Agent(state_size=state_size, action_size=action_size, random_seed=8)\n",
    "scores, avgs = ddpg()"
   ]
  },
  {
   "cell_type": "code",
   "execution_count": 8,
   "metadata": {},
   "outputs": [
    {
     "data": {
      "image/png": "[encoded data removed]",
      "text/plain": [
       "<matplotlib.figure.Figure at 0x7fbf2798dcf8>"
      ]
     },
     "metadata": {
      "needs_background": "light"
     },
     "output_type": "display_data"
    }
   ],
   "source": [
    "# Plot the scores\n",
    "import matplotlib.pyplot as plt\n",
    "%matplotlib inline\n",
    "\n",
    "fig = plt.figure()\n",
    "ax = fig.add_subplot(111)\n",
    "plt.plot(np.arange(len(scores)), scores, label='DDPG')\n",
    "plt.plot(np.arange(len(scores)), avgs, c='r', label='Moving Average')\n",
    "plt.ylabel('Score')\n",
    "plt.xlabel('Episode #')\n",
    "plt.legend(loc='upper left');\n",
    "plt.show()"
   ]
  },
  {
   "cell_type": "markdown",
   "metadata": {},
   "source": [
    "When finished, you can close the environment."
   ]
  },
  {
   "cell_type": "code",
   "execution_count": 9,
   "metadata": {},
   "outputs": [],
   "source": [
    "env.close()"
   ]
  }
 ],
 "metadata": {
  "kernelspec": {
   "display_name": "Python 3",
   "language": "python",
   "name": "python3"
  },
  "language_info": {
   "codemirror_mode": {
    "name": "ipython",
    "version": 3
   },
   "file_extension": ".py",
   "mimetype": "text/x-python",
   "name": "python",
   "nbconvert_exporter": "python",
   "pygments_lexer": "ipython3",
   "version": "3.6.3"
  }
 },
 "nbformat": 4,
 "nbformat_minor": 2
}
